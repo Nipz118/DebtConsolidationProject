{
 "cells": [
  {
   "cell_type": "code",
   "execution_count": 1,
   "id": "bfaf7211",
   "metadata": {},
   "outputs": [],
   "source": [
    "import numpy as np \n",
    "import pandas as pd  \n",
    "import seaborn as sns \n",
    "import matplotlib.pyplot as plt\n",
    "import pickle\n",
    "%matplotlib inline "
   ]
  },
  {
   "cell_type": "code",
   "execution_count": 2,
   "id": "dbb9d5bc",
   "metadata": {},
   "outputs": [
    {
     "data": {
      "text/html": [
       "<div>\n",
       "<style scoped>\n",
       "    .dataframe tbody tr th:only-of-type {\n",
       "        vertical-align: middle;\n",
       "    }\n",
       "\n",
       "    .dataframe tbody tr th {\n",
       "        vertical-align: top;\n",
       "    }\n",
       "\n",
       "    .dataframe thead th {\n",
       "        text-align: right;\n",
       "    }\n",
       "</style>\n",
       "<table border=\"1\" class=\"dataframe\">\n",
       "  <thead>\n",
       "    <tr style=\"text-align: right;\">\n",
       "      <th></th>\n",
       "      <th>DCID</th>\n",
       "      <th>Gender</th>\n",
       "      <th>Married</th>\n",
       "      <th>Dependents</th>\n",
       "      <th>Education</th>\n",
       "      <th>SelfEmployed</th>\n",
       "      <th>ApplicantIncome</th>\n",
       "      <th>CoapplicantIncome</th>\n",
       "      <th>DebtConsolidationAmount</th>\n",
       "      <th>Tenor</th>\n",
       "      <th>CreditHistory</th>\n",
       "      <th>PropertyArea</th>\n",
       "      <th>FacilityStatus</th>\n",
       "    </tr>\n",
       "  </thead>\n",
       "  <tbody>\n",
       "    <tr>\n",
       "      <th>0</th>\n",
       "      <td>DC000001</td>\n",
       "      <td>Male</td>\n",
       "      <td>No</td>\n",
       "      <td>0</td>\n",
       "      <td>Graduate</td>\n",
       "      <td>No</td>\n",
       "      <td>78500</td>\n",
       "      <td>64800</td>\n",
       "      <td>600000</td>\n",
       "      <td>36</td>\n",
       "      <td>1</td>\n",
       "      <td>Urban</td>\n",
       "      <td>Yes</td>\n",
       "    </tr>\n",
       "    <tr>\n",
       "      <th>1</th>\n",
       "      <td>DC000002</td>\n",
       "      <td>Male</td>\n",
       "      <td>Yes</td>\n",
       "      <td>1</td>\n",
       "      <td>Graduate</td>\n",
       "      <td>No</td>\n",
       "      <td>95200</td>\n",
       "      <td>92400</td>\n",
       "      <td>500000</td>\n",
       "      <td>36</td>\n",
       "      <td>1</td>\n",
       "      <td>Urban</td>\n",
       "      <td>Yes</td>\n",
       "    </tr>\n",
       "    <tr>\n",
       "      <th>2</th>\n",
       "      <td>DC000003</td>\n",
       "      <td>Male</td>\n",
       "      <td>Yes</td>\n",
       "      <td>0</td>\n",
       "      <td>Graduate</td>\n",
       "      <td>No</td>\n",
       "      <td>87000</td>\n",
       "      <td>65000</td>\n",
       "      <td>400000</td>\n",
       "      <td>36</td>\n",
       "      <td>1</td>\n",
       "      <td>Urban</td>\n",
       "      <td>Yes</td>\n",
       "    </tr>\n",
       "    <tr>\n",
       "      <th>3</th>\n",
       "      <td>DC000004</td>\n",
       "      <td>Male</td>\n",
       "      <td>Yes</td>\n",
       "      <td>0</td>\n",
       "      <td>Not Graduate</td>\n",
       "      <td>Yes</td>\n",
       "      <td>68000</td>\n",
       "      <td>52130</td>\n",
       "      <td>100000</td>\n",
       "      <td>36</td>\n",
       "      <td>0</td>\n",
       "      <td>Rural</td>\n",
       "      <td>No</td>\n",
       "    </tr>\n",
       "    <tr>\n",
       "      <th>4</th>\n",
       "      <td>DC000005</td>\n",
       "      <td>Male</td>\n",
       "      <td>No</td>\n",
       "      <td>0</td>\n",
       "      <td>Graduate</td>\n",
       "      <td>No</td>\n",
       "      <td>196000</td>\n",
       "      <td>63000</td>\n",
       "      <td>300000</td>\n",
       "      <td>36</td>\n",
       "      <td>1</td>\n",
       "      <td>Urban</td>\n",
       "      <td>Yes</td>\n",
       "    </tr>\n",
       "  </tbody>\n",
       "</table>\n",
       "</div>"
      ],
      "text/plain": [
       "       DCID Gender Married  Dependents     Education SelfEmployed  \\\n",
       "0  DC000001   Male      No           0      Graduate           No   \n",
       "1  DC000002   Male     Yes           1      Graduate           No   \n",
       "2  DC000003   Male     Yes           0      Graduate           No   \n",
       "3  DC000004   Male     Yes           0  Not Graduate          Yes   \n",
       "4  DC000005   Male      No           0      Graduate           No   \n",
       "\n",
       "   ApplicantIncome  CoapplicantIncome  DebtConsolidationAmount  Tenor  \\\n",
       "0            78500              64800                   600000     36   \n",
       "1            95200              92400                   500000     36   \n",
       "2            87000              65000                   400000     36   \n",
       "3            68000              52130                   100000     36   \n",
       "4           196000              63000                   300000     36   \n",
       "\n",
       "   CreditHistory PropertyArea FacilityStatus  \n",
       "0              1        Urban            Yes  \n",
       "1              1        Urban            Yes  \n",
       "2              1        Urban            Yes  \n",
       "3              0        Rural             No  \n",
       "4              1        Urban            Yes  "
      ]
     },
     "execution_count": 2,
     "metadata": {},
     "output_type": "execute_result"
    }
   ],
   "source": [
    "train_data = pd.read_csv(\"DebtConsolidationFacilityPrediction.csv\") \n",
    "train_data.head()"
   ]
  },
  {
   "cell_type": "code",
   "execution_count": 3,
   "id": "d7439628",
   "metadata": {},
   "outputs": [
    {
     "name": "stdout",
     "output_type": "stream",
     "text": [
      "(10100, 13)\n"
     ]
    }
   ],
   "source": [
    "print(train_data.shape)"
   ]
  },
  {
   "cell_type": "code",
   "execution_count": 4,
   "id": "2b45e015",
   "metadata": {},
   "outputs": [
    {
     "data": {
      "text/html": [
       "<div>\n",
       "<style scoped>\n",
       "    .dataframe tbody tr th:only-of-type {\n",
       "        vertical-align: middle;\n",
       "    }\n",
       "\n",
       "    .dataframe tbody tr th {\n",
       "        vertical-align: top;\n",
       "    }\n",
       "\n",
       "    .dataframe thead th {\n",
       "        text-align: right;\n",
       "    }\n",
       "</style>\n",
       "<table border=\"1\" class=\"dataframe\">\n",
       "  <thead>\n",
       "    <tr style=\"text-align: right;\">\n",
       "      <th></th>\n",
       "      <th>Dependents</th>\n",
       "      <th>ApplicantIncome</th>\n",
       "      <th>CoapplicantIncome</th>\n",
       "      <th>DebtConsolidationAmount</th>\n",
       "      <th>Tenor</th>\n",
       "      <th>CreditHistory</th>\n",
       "    </tr>\n",
       "  </thead>\n",
       "  <tbody>\n",
       "    <tr>\n",
       "      <th>count</th>\n",
       "      <td>10100.000000</td>\n",
       "      <td>10100.000000</td>\n",
       "      <td>10100.000000</td>\n",
       "      <td>1.010000e+04</td>\n",
       "      <td>10100.000000</td>\n",
       "      <td>10100.000000</td>\n",
       "    </tr>\n",
       "    <tr>\n",
       "      <th>mean</th>\n",
       "      <td>0.815743</td>\n",
       "      <td>239635.259406</td>\n",
       "      <td>127212.328218</td>\n",
       "      <td>6.221530e+05</td>\n",
       "      <td>33.851881</td>\n",
       "      <td>0.772079</td>\n",
       "    </tr>\n",
       "    <tr>\n",
       "      <th>std</th>\n",
       "      <td>1.022768</td>\n",
       "      <td>160787.447929</td>\n",
       "      <td>69844.184222</td>\n",
       "      <td>5.055213e+05</td>\n",
       "      <td>6.498108</td>\n",
       "      <td>0.419512</td>\n",
       "    </tr>\n",
       "    <tr>\n",
       "      <th>min</th>\n",
       "      <td>0.000000</td>\n",
       "      <td>15000.000000</td>\n",
       "      <td>20320.000000</td>\n",
       "      <td>7.600000e+04</td>\n",
       "      <td>12.000000</td>\n",
       "      <td>0.000000</td>\n",
       "    </tr>\n",
       "    <tr>\n",
       "      <th>25%</th>\n",
       "      <td>0.000000</td>\n",
       "      <td>87587.500000</td>\n",
       "      <td>78398.750000</td>\n",
       "      <td>2.702375e+05</td>\n",
       "      <td>36.000000</td>\n",
       "      <td>1.000000</td>\n",
       "    </tr>\n",
       "    <tr>\n",
       "      <th>50%</th>\n",
       "      <td>0.000000</td>\n",
       "      <td>226300.000000</td>\n",
       "      <td>118523.500000</td>\n",
       "      <td>3.917500e+05</td>\n",
       "      <td>36.000000</td>\n",
       "      <td>1.000000</td>\n",
       "    </tr>\n",
       "    <tr>\n",
       "      <th>75%</th>\n",
       "      <td>2.000000</td>\n",
       "      <td>377825.000000</td>\n",
       "      <td>157520.000000</td>\n",
       "      <td>7.972750e+05</td>\n",
       "      <td>36.000000</td>\n",
       "      <td>1.000000</td>\n",
       "    </tr>\n",
       "    <tr>\n",
       "      <th>max</th>\n",
       "      <td>3.000000</td>\n",
       "      <td>600000.000000</td>\n",
       "      <td>476000.000000</td>\n",
       "      <td>2.000000e+06</td>\n",
       "      <td>48.000000</td>\n",
       "      <td>1.000000</td>\n",
       "    </tr>\n",
       "  </tbody>\n",
       "</table>\n",
       "</div>"
      ],
      "text/plain": [
       "         Dependents  ApplicantIncome  CoapplicantIncome  \\\n",
       "count  10100.000000     10100.000000       10100.000000   \n",
       "mean       0.815743    239635.259406      127212.328218   \n",
       "std        1.022768    160787.447929       69844.184222   \n",
       "min        0.000000     15000.000000       20320.000000   \n",
       "25%        0.000000     87587.500000       78398.750000   \n",
       "50%        0.000000    226300.000000      118523.500000   \n",
       "75%        2.000000    377825.000000      157520.000000   \n",
       "max        3.000000    600000.000000      476000.000000   \n",
       "\n",
       "       DebtConsolidationAmount         Tenor  CreditHistory  \n",
       "count             1.010000e+04  10100.000000   10100.000000  \n",
       "mean              6.221530e+05     33.851881       0.772079  \n",
       "std               5.055213e+05      6.498108       0.419512  \n",
       "min               7.600000e+04     12.000000       0.000000  \n",
       "25%               2.702375e+05     36.000000       1.000000  \n",
       "50%               3.917500e+05     36.000000       1.000000  \n",
       "75%               7.972750e+05     36.000000       1.000000  \n",
       "max               2.000000e+06     48.000000       1.000000  "
      ]
     },
     "execution_count": 4,
     "metadata": {},
     "output_type": "execute_result"
    }
   ],
   "source": [
    "train_data.describe()"
   ]
  },
  {
   "cell_type": "code",
   "execution_count": 5,
   "id": "e798084c",
   "metadata": {},
   "outputs": [
    {
     "name": "stdout",
     "output_type": "stream",
     "text": [
      "<class 'pandas.core.frame.DataFrame'>\n",
      "RangeIndex: 10100 entries, 0 to 10099\n",
      "Data columns (total 13 columns):\n",
      " #   Column                   Non-Null Count  Dtype \n",
      "---  ------                   --------------  ----- \n",
      " 0   DCID                     10100 non-null  object\n",
      " 1   Gender                   10100 non-null  object\n",
      " 2   Married                  10100 non-null  object\n",
      " 3   Dependents               10100 non-null  int64 \n",
      " 4   Education                10100 non-null  object\n",
      " 5   SelfEmployed             10100 non-null  object\n",
      " 6   ApplicantIncome          10100 non-null  int64 \n",
      " 7   CoapplicantIncome        10100 non-null  int64 \n",
      " 8   DebtConsolidationAmount  10100 non-null  int64 \n",
      " 9   Tenor                    10100 non-null  int64 \n",
      " 10  CreditHistory            10100 non-null  int64 \n",
      " 11  PropertyArea             10100 non-null  object\n",
      " 12  FacilityStatus           10100 non-null  object\n",
      "dtypes: int64(6), object(7)\n",
      "memory usage: 1.0+ MB\n"
     ]
    }
   ],
   "source": [
    "train_data.info()"
   ]
  },
  {
   "cell_type": "code",
   "execution_count": 6,
   "id": "65fa9cd9",
   "metadata": {},
   "outputs": [],
   "source": [
    "def missing_values(df): \n",
    "    a = num_null_values = df.isnull().sum()  \n",
    "    return a"
   ]
  },
  {
   "cell_type": "code",
   "execution_count": 7,
   "id": "19ea492c",
   "metadata": {},
   "outputs": [
    {
     "data": {
      "text/plain": [
       "DCID                       0\n",
       "Gender                     0\n",
       "Married                    0\n",
       "Dependents                 0\n",
       "Education                  0\n",
       "SelfEmployed               0\n",
       "ApplicantIncome            0\n",
       "CoapplicantIncome          0\n",
       "DebtConsolidationAmount    0\n",
       "Tenor                      0\n",
       "CreditHistory              0\n",
       "PropertyArea               0\n",
       "FacilityStatus             0\n",
       "dtype: int64"
      ]
     },
     "execution_count": 7,
     "metadata": {},
     "output_type": "execute_result"
    }
   ],
   "source": [
    "missing_values(train_data)"
   ]
  },
  {
   "cell_type": "code",
   "execution_count": 8,
   "id": "1b254eeb",
   "metadata": {},
   "outputs": [],
   "source": [
    "train_data.drop([\"DCID\"], axis=1, inplace=True)"
   ]
  },
  {
   "cell_type": "code",
   "execution_count": 9,
   "id": "70b65ce2",
   "metadata": {},
   "outputs": [
    {
     "data": {
      "text/plain": [
       "Gender                     object\n",
       "Married                    object\n",
       "Dependents                  int64\n",
       "Education                  object\n",
       "SelfEmployed               object\n",
       "ApplicantIncome             int64\n",
       "CoapplicantIncome           int64\n",
       "DebtConsolidationAmount     int64\n",
       "Tenor                       int64\n",
       "CreditHistory               int64\n",
       "PropertyArea               object\n",
       "FacilityStatus             object\n",
       "dtype: object"
      ]
     },
     "execution_count": 9,
     "metadata": {},
     "output_type": "execute_result"
    }
   ],
   "source": [
    "train_data.dtypes"
   ]
  },
  {
   "cell_type": "code",
   "execution_count": 10,
   "id": "f4a5e199",
   "metadata": {},
   "outputs": [
    {
     "name": "stdout",
     "output_type": "stream",
     "text": [
      "Categorical variables: 6\n"
     ]
    }
   ],
   "source": [
    "obj = (train_data.dtypes == 'object')\n",
    "print(\"Categorical variables:\",len(list(obj[obj].index)))"
   ]
  },
  {
   "cell_type": "code",
   "execution_count": 11,
   "id": "b6e3e395",
   "metadata": {},
   "outputs": [],
   "source": [
    "def bar_chart(col): \n",
    "    Approved = train_data[train_data[\"FacilityStatus\"]==\"Yes\"][col].value_counts() \n",
    "    Disapproved = train_data[train_data[\"FacilityStatus\"]==\"No\"][col].value_counts() \n",
    "    \n",
    "    df1 = pd.DataFrame([Approved, Disapproved]) \n",
    "    df1.index = [\"Approved\", \"Disapproved\"] \n",
    "    df1.plot(kind=\"bar\")"
   ]
  },
  {
   "cell_type": "code",
   "execution_count": 12,
   "id": "6ccb4cf1",
   "metadata": {},
   "outputs": [
    {
     "data": {
      "image/png": "[encoded data removed]",
      "text/plain": [
       "<Figure size 640x480 with 1 Axes>"
      ]
     },
     "metadata": {},
     "output_type": "display_data"
    }
   ],
   "source": [
    "bar_chart(\"Gender\")"
   ]
  },
  {
   "cell_type": "code",
   "execution_count": 13,
   "id": "5f83c7fa",
   "metadata": {},
   "outputs": [
    {
     "data": {
      "image/png": "[encoded data removed]",
      "text/plain": [
       "<Figure size 640x480 with 1 Axes>"
      ]
     },
     "metadata": {},
     "output_type": "display_data"
    }
   ],
   "source": [
    "bar_chart(\"Married\")"
   ]
  },
  {
   "cell_type": "code",
   "execution_count": 14,
   "id": "c6ee04d2",
   "metadata": {},
   "outputs": [
    {
     "data": {
      "image/png": "[encoded data removed]",
      "text/plain": [
       "<Figure size 640x480 with 1 Axes>"
      ]
     },
     "metadata": {},
     "output_type": "display_data"
    }
   ],
   "source": [
    "bar_chart(\"Education\")"
   ]
  },
  {
   "cell_type": "code",
   "execution_count": 15,
   "id": "ca767fc4",
   "metadata": {},
   "outputs": [
    {
     "data": {
      "image/png": "[encoded data removed]",
      "text/plain": [
       "<Figure size 640x480 with 1 Axes>"
      ]
     },
     "metadata": {},
     "output_type": "display_data"
    }
   ],
   "source": [
    "bar_chart(\"SelfEmployed\")"
   ]
  },
  {
   "cell_type": "code",
   "execution_count": 16,
   "id": "c8697079",
   "metadata": {},
   "outputs": [
    {
     "data": {
      "text/html": [
       "<div>\n",
       "<style scoped>\n",
       "    .dataframe tbody tr th:only-of-type {\n",
       "        vertical-align: middle;\n",
       "    }\n",
       "\n",
       "    .dataframe tbody tr th {\n",
       "        vertical-align: top;\n",
       "    }\n",
       "\n",
       "    .dataframe thead th {\n",
       "        text-align: right;\n",
       "    }\n",
       "</style>\n",
       "<table border=\"1\" class=\"dataframe\">\n",
       "  <thead>\n",
       "    <tr style=\"text-align: right;\">\n",
       "      <th></th>\n",
       "      <th>Gender</th>\n",
       "      <th>Married</th>\n",
       "      <th>Dependents</th>\n",
       "      <th>Education</th>\n",
       "      <th>SelfEmployed</th>\n",
       "      <th>ApplicantIncome</th>\n",
       "      <th>CoapplicantIncome</th>\n",
       "      <th>DebtConsolidationAmount</th>\n",
       "      <th>Tenor</th>\n",
       "      <th>CreditHistory</th>\n",
       "      <th>PropertyArea</th>\n",
       "      <th>FacilityStatus</th>\n",
       "    </tr>\n",
       "  </thead>\n",
       "  <tbody>\n",
       "    <tr>\n",
       "      <th>0</th>\n",
       "      <td>1.0</td>\n",
       "      <td>0.0</td>\n",
       "      <td>0</td>\n",
       "      <td>0.0</td>\n",
       "      <td>0.0</td>\n",
       "      <td>78500</td>\n",
       "      <td>64800</td>\n",
       "      <td>600000</td>\n",
       "      <td>36</td>\n",
       "      <td>1</td>\n",
       "      <td>2.0</td>\n",
       "      <td>1.0</td>\n",
       "    </tr>\n",
       "    <tr>\n",
       "      <th>1</th>\n",
       "      <td>1.0</td>\n",
       "      <td>1.0</td>\n",
       "      <td>1</td>\n",
       "      <td>0.0</td>\n",
       "      <td>0.0</td>\n",
       "      <td>95200</td>\n",
       "      <td>92400</td>\n",
       "      <td>500000</td>\n",
       "      <td>36</td>\n",
       "      <td>1</td>\n",
       "      <td>2.0</td>\n",
       "      <td>1.0</td>\n",
       "    </tr>\n",
       "    <tr>\n",
       "      <th>2</th>\n",
       "      <td>1.0</td>\n",
       "      <td>1.0</td>\n",
       "      <td>0</td>\n",
       "      <td>0.0</td>\n",
       "      <td>0.0</td>\n",
       "      <td>87000</td>\n",
       "      <td>65000</td>\n",
       "      <td>400000</td>\n",
       "      <td>36</td>\n",
       "      <td>1</td>\n",
       "      <td>2.0</td>\n",
       "      <td>1.0</td>\n",
       "    </tr>\n",
       "    <tr>\n",
       "      <th>3</th>\n",
       "      <td>1.0</td>\n",
       "      <td>1.0</td>\n",
       "      <td>0</td>\n",
       "      <td>1.0</td>\n",
       "      <td>1.0</td>\n",
       "      <td>68000</td>\n",
       "      <td>52130</td>\n",
       "      <td>100000</td>\n",
       "      <td>36</td>\n",
       "      <td>0</td>\n",
       "      <td>0.0</td>\n",
       "      <td>0.0</td>\n",
       "    </tr>\n",
       "    <tr>\n",
       "      <th>4</th>\n",
       "      <td>1.0</td>\n",
       "      <td>0.0</td>\n",
       "      <td>0</td>\n",
       "      <td>0.0</td>\n",
       "      <td>0.0</td>\n",
       "      <td>196000</td>\n",
       "      <td>63000</td>\n",
       "      <td>300000</td>\n",
       "      <td>36</td>\n",
       "      <td>1</td>\n",
       "      <td>2.0</td>\n",
       "      <td>1.0</td>\n",
       "    </tr>\n",
       "  </tbody>\n",
       "</table>\n",
       "</div>"
      ],
      "text/plain": [
       "   Gender  Married  Dependents  Education  SelfEmployed  ApplicantIncome  \\\n",
       "0     1.0      0.0           0        0.0           0.0            78500   \n",
       "1     1.0      1.0           1        0.0           0.0            95200   \n",
       "2     1.0      1.0           0        0.0           0.0            87000   \n",
       "3     1.0      1.0           0        1.0           1.0            68000   \n",
       "4     1.0      0.0           0        0.0           0.0           196000   \n",
       "\n",
       "   CoapplicantIncome  DebtConsolidationAmount  Tenor  CreditHistory  \\\n",
       "0              64800                   600000     36              1   \n",
       "1              92400                   500000     36              1   \n",
       "2              65000                   400000     36              1   \n",
       "3              52130                   100000     36              0   \n",
       "4              63000                   300000     36              1   \n",
       "\n",
       "   PropertyArea  FacilityStatus  \n",
       "0           2.0             1.0  \n",
       "1           2.0             1.0  \n",
       "2           2.0             1.0  \n",
       "3           0.0             0.0  \n",
       "4           2.0             1.0  "
      ]
     },
     "execution_count": 16,
     "metadata": {},
     "output_type": "execute_result"
    }
   ],
   "source": [
    "from sklearn.preprocessing import OrdinalEncoder \n",
    "\n",
    "ord_enc = OrdinalEncoder() \n",
    "train_data[[\"Gender\",'Married','Education','SelfEmployed','PropertyArea','FacilityStatus']] = ord_enc.fit_transform(train_data[[\"Gender\",'Married','Education','SelfEmployed','PropertyArea','FacilityStatus']])\n",
    "train_data.head()"
   ]
  },
  {
   "cell_type": "code",
   "execution_count": 17,
   "id": "be6a90a5",
   "metadata": {},
   "outputs": [],
   "source": [
    "train_data[[\"Gender\",'Married','Education','SelfEmployed','PropertyArea','FacilityStatus']] = train_data[[\"Gender\",'Married','Education','SelfEmployed','PropertyArea','FacilityStatus']].astype('int')\n"
   ]
  },
  {
   "cell_type": "code",
   "execution_count": 18,
   "id": "d308b726",
   "metadata": {},
   "outputs": [
    {
     "data": {
      "text/html": [
       "<div>\n",
       "<style scoped>\n",
       "    .dataframe tbody tr th:only-of-type {\n",
       "        vertical-align: middle;\n",
       "    }\n",
       "\n",
       "    .dataframe tbody tr th {\n",
       "        vertical-align: top;\n",
       "    }\n",
       "\n",
       "    .dataframe thead th {\n",
       "        text-align: right;\n",
       "    }\n",
       "</style>\n",
       "<table border=\"1\" class=\"dataframe\">\n",
       "  <thead>\n",
       "    <tr style=\"text-align: right;\">\n",
       "      <th></th>\n",
       "      <th>Gender</th>\n",
       "      <th>Married</th>\n",
       "      <th>Dependents</th>\n",
       "      <th>Education</th>\n",
       "      <th>SelfEmployed</th>\n",
       "      <th>ApplicantIncome</th>\n",
       "      <th>CoapplicantIncome</th>\n",
       "      <th>DebtConsolidationAmount</th>\n",
       "      <th>Tenor</th>\n",
       "      <th>CreditHistory</th>\n",
       "      <th>PropertyArea</th>\n",
       "      <th>FacilityStatus</th>\n",
       "    </tr>\n",
       "  </thead>\n",
       "  <tbody>\n",
       "    <tr>\n",
       "      <th>0</th>\n",
       "      <td>1</td>\n",
       "      <td>0</td>\n",
       "      <td>0</td>\n",
       "      <td>0</td>\n",
       "      <td>0</td>\n",
       "      <td>78500</td>\n",
       "      <td>64800</td>\n",
       "      <td>600000</td>\n",
       "      <td>36</td>\n",
       "      <td>1</td>\n",
       "      <td>2</td>\n",
       "      <td>1</td>\n",
       "    </tr>\n",
       "    <tr>\n",
       "      <th>1</th>\n",
       "      <td>1</td>\n",
       "      <td>1</td>\n",
       "      <td>1</td>\n",
       "      <td>0</td>\n",
       "      <td>0</td>\n",
       "      <td>95200</td>\n",
       "      <td>92400</td>\n",
       "      <td>500000</td>\n",
       "      <td>36</td>\n",
       "      <td>1</td>\n",
       "      <td>2</td>\n",
       "      <td>1</td>\n",
       "    </tr>\n",
       "    <tr>\n",
       "      <th>2</th>\n",
       "      <td>1</td>\n",
       "      <td>1</td>\n",
       "      <td>0</td>\n",
       "      <td>0</td>\n",
       "      <td>0</td>\n",
       "      <td>87000</td>\n",
       "      <td>65000</td>\n",
       "      <td>400000</td>\n",
       "      <td>36</td>\n",
       "      <td>1</td>\n",
       "      <td>2</td>\n",
       "      <td>1</td>\n",
       "    </tr>\n",
       "    <tr>\n",
       "      <th>3</th>\n",
       "      <td>1</td>\n",
       "      <td>1</td>\n",
       "      <td>0</td>\n",
       "      <td>1</td>\n",
       "      <td>1</td>\n",
       "      <td>68000</td>\n",
       "      <td>52130</td>\n",
       "      <td>100000</td>\n",
       "      <td>36</td>\n",
       "      <td>0</td>\n",
       "      <td>0</td>\n",
       "      <td>0</td>\n",
       "    </tr>\n",
       "    <tr>\n",
       "      <th>4</th>\n",
       "      <td>1</td>\n",
       "      <td>0</td>\n",
       "      <td>0</td>\n",
       "      <td>0</td>\n",
       "      <td>0</td>\n",
       "      <td>196000</td>\n",
       "      <td>63000</td>\n",
       "      <td>300000</td>\n",
       "      <td>36</td>\n",
       "      <td>1</td>\n",
       "      <td>2</td>\n",
       "      <td>1</td>\n",
       "    </tr>\n",
       "    <tr>\n",
       "      <th>...</th>\n",
       "      <td>...</td>\n",
       "      <td>...</td>\n",
       "      <td>...</td>\n",
       "      <td>...</td>\n",
       "      <td>...</td>\n",
       "      <td>...</td>\n",
       "      <td>...</td>\n",
       "      <td>...</td>\n",
       "      <td>...</td>\n",
       "      <td>...</td>\n",
       "      <td>...</td>\n",
       "      <td>...</td>\n",
       "    </tr>\n",
       "    <tr>\n",
       "      <th>10095</th>\n",
       "      <td>1</td>\n",
       "      <td>1</td>\n",
       "      <td>1</td>\n",
       "      <td>0</td>\n",
       "      <td>0</td>\n",
       "      <td>277050</td>\n",
       "      <td>113172</td>\n",
       "      <td>1750000</td>\n",
       "      <td>36</td>\n",
       "      <td>1</td>\n",
       "      <td>2</td>\n",
       "      <td>1</td>\n",
       "    </tr>\n",
       "    <tr>\n",
       "      <th>10096</th>\n",
       "      <td>1</td>\n",
       "      <td>0</td>\n",
       "      <td>0</td>\n",
       "      <td>0</td>\n",
       "      <td>0</td>\n",
       "      <td>277150</td>\n",
       "      <td>113192</td>\n",
       "      <td>1800000</td>\n",
       "      <td>36</td>\n",
       "      <td>1</td>\n",
       "      <td>2</td>\n",
       "      <td>1</td>\n",
       "    </tr>\n",
       "    <tr>\n",
       "      <th>10097</th>\n",
       "      <td>0</td>\n",
       "      <td>0</td>\n",
       "      <td>0</td>\n",
       "      <td>0</td>\n",
       "      <td>0</td>\n",
       "      <td>277250</td>\n",
       "      <td>113212</td>\n",
       "      <td>1850000</td>\n",
       "      <td>36</td>\n",
       "      <td>1</td>\n",
       "      <td>2</td>\n",
       "      <td>1</td>\n",
       "    </tr>\n",
       "    <tr>\n",
       "      <th>10098</th>\n",
       "      <td>1</td>\n",
       "      <td>1</td>\n",
       "      <td>0</td>\n",
       "      <td>1</td>\n",
       "      <td>1</td>\n",
       "      <td>66845</td>\n",
       "      <td>40784</td>\n",
       "      <td>128365</td>\n",
       "      <td>36</td>\n",
       "      <td>0</td>\n",
       "      <td>0</td>\n",
       "      <td>0</td>\n",
       "    </tr>\n",
       "    <tr>\n",
       "      <th>10099</th>\n",
       "      <td>1</td>\n",
       "      <td>1</td>\n",
       "      <td>1</td>\n",
       "      <td>1</td>\n",
       "      <td>0</td>\n",
       "      <td>222000</td>\n",
       "      <td>175200</td>\n",
       "      <td>325600</td>\n",
       "      <td>24</td>\n",
       "      <td>0</td>\n",
       "      <td>0</td>\n",
       "      <td>0</td>\n",
       "    </tr>\n",
       "  </tbody>\n",
       "</table>\n",
       "<p>10100 rows × 12 columns</p>\n",
       "</div>"
      ],
      "text/plain": [
       "       Gender  Married  Dependents  Education  SelfEmployed  ApplicantIncome  \\\n",
       "0           1        0           0          0             0            78500   \n",
       "1           1        1           1          0             0            95200   \n",
       "2           1        1           0          0             0            87000   \n",
       "3           1        1           0          1             1            68000   \n",
       "4           1        0           0          0             0           196000   \n",
       "...       ...      ...         ...        ...           ...              ...   \n",
       "10095       1        1           1          0             0           277050   \n",
       "10096       1        0           0          0             0           277150   \n",
       "10097       0        0           0          0             0           277250   \n",
       "10098       1        1           0          1             1            66845   \n",
       "10099       1        1           1          1             0           222000   \n",
       "\n",
       "       CoapplicantIncome  DebtConsolidationAmount  Tenor  CreditHistory  \\\n",
       "0                  64800                   600000     36              1   \n",
       "1                  92400                   500000     36              1   \n",
       "2                  65000                   400000     36              1   \n",
       "3                  52130                   100000     36              0   \n",
       "4                  63000                   300000     36              1   \n",
       "...                  ...                      ...    ...            ...   \n",
       "10095             113172                  1750000     36              1   \n",
       "10096             113192                  1800000     36              1   \n",
       "10097             113212                  1850000     36              1   \n",
       "10098              40784                   128365     36              0   \n",
       "10099             175200                   325600     24              0   \n",
       "\n",
       "       PropertyArea  FacilityStatus  \n",
       "0                 2               1  \n",
       "1                 2               1  \n",
       "2                 2               1  \n",
       "3                 0               0  \n",
       "4                 2               1  \n",
       "...             ...             ...  \n",
       "10095             2               1  \n",
       "10096             2               1  \n",
       "10097             2               1  \n",
       "10098             0               0  \n",
       "10099             0               0  \n",
       "\n",
       "[10100 rows x 12 columns]"
      ]
     },
     "execution_count": 18,
     "metadata": {},
     "output_type": "execute_result"
    }
   ],
   "source": [
    "train_data"
   ]
  },
  {
   "cell_type": "code",
   "execution_count": 19,
   "id": "b63a2ec3",
   "metadata": {},
   "outputs": [
    {
     "name": "stdout",
     "output_type": "stream",
     "text": [
      "(6060, 11)\n",
      "(6060,)\n",
      "(4040, 11)\n",
      "(4040,)\n"
     ]
    }
   ],
   "source": [
    "from sklearn.model_selection import train_test_split  \n",
    "X = train_data.drop(\"FacilityStatus\", axis=1) \n",
    "y = train_data[\"FacilityStatus\"] \n",
    "\n",
    "X_train, X_test, y_train, y_test = train_test_split(X,y,test_size=0.4, random_state=2) \n",
    "print(X_train.shape) \n",
    "print(y_train.shape)\n",
    "print(X_test.shape) \n",
    "print(y_test.shape)"
   ]
  },
  {
   "cell_type": "code",
   "execution_count": 20,
   "id": "5f741c13",
   "metadata": {},
   "outputs": [
    {
     "data": {
      "text/html": [
       "<div>\n",
       "<style scoped>\n",
       "    .dataframe tbody tr th:only-of-type {\n",
       "        vertical-align: middle;\n",
       "    }\n",
       "\n",
       "    .dataframe tbody tr th {\n",
       "        vertical-align: top;\n",
       "    }\n",
       "\n",
       "    .dataframe thead th {\n",
       "        text-align: right;\n",
       "    }\n",
       "</style>\n",
       "<table border=\"1\" class=\"dataframe\">\n",
       "  <thead>\n",
       "    <tr style=\"text-align: right;\">\n",
       "      <th></th>\n",
       "      <th>Gender</th>\n",
       "      <th>Married</th>\n",
       "      <th>Dependents</th>\n",
       "      <th>Education</th>\n",
       "      <th>SelfEmployed</th>\n",
       "      <th>ApplicantIncome</th>\n",
       "      <th>CoapplicantIncome</th>\n",
       "      <th>DebtConsolidationAmount</th>\n",
       "      <th>Tenor</th>\n",
       "      <th>CreditHistory</th>\n",
       "      <th>PropertyArea</th>\n",
       "    </tr>\n",
       "  </thead>\n",
       "  <tbody>\n",
       "    <tr>\n",
       "      <th>0</th>\n",
       "      <td>1</td>\n",
       "      <td>0</td>\n",
       "      <td>0</td>\n",
       "      <td>0</td>\n",
       "      <td>0</td>\n",
       "      <td>78500</td>\n",
       "      <td>64800</td>\n",
       "      <td>600000</td>\n",
       "      <td>36</td>\n",
       "      <td>1</td>\n",
       "      <td>2</td>\n",
       "    </tr>\n",
       "    <tr>\n",
       "      <th>1</th>\n",
       "      <td>1</td>\n",
       "      <td>1</td>\n",
       "      <td>1</td>\n",
       "      <td>0</td>\n",
       "      <td>0</td>\n",
       "      <td>95200</td>\n",
       "      <td>92400</td>\n",
       "      <td>500000</td>\n",
       "      <td>36</td>\n",
       "      <td>1</td>\n",
       "      <td>2</td>\n",
       "    </tr>\n",
       "    <tr>\n",
       "      <th>2</th>\n",
       "      <td>1</td>\n",
       "      <td>1</td>\n",
       "      <td>0</td>\n",
       "      <td>0</td>\n",
       "      <td>0</td>\n",
       "      <td>87000</td>\n",
       "      <td>65000</td>\n",
       "      <td>400000</td>\n",
       "      <td>36</td>\n",
       "      <td>1</td>\n",
       "      <td>2</td>\n",
       "    </tr>\n",
       "    <tr>\n",
       "      <th>3</th>\n",
       "      <td>1</td>\n",
       "      <td>1</td>\n",
       "      <td>0</td>\n",
       "      <td>1</td>\n",
       "      <td>1</td>\n",
       "      <td>68000</td>\n",
       "      <td>52130</td>\n",
       "      <td>100000</td>\n",
       "      <td>36</td>\n",
       "      <td>0</td>\n",
       "      <td>0</td>\n",
       "    </tr>\n",
       "    <tr>\n",
       "      <th>4</th>\n",
       "      <td>1</td>\n",
       "      <td>0</td>\n",
       "      <td>0</td>\n",
       "      <td>0</td>\n",
       "      <td>0</td>\n",
       "      <td>196000</td>\n",
       "      <td>63000</td>\n",
       "      <td>300000</td>\n",
       "      <td>36</td>\n",
       "      <td>1</td>\n",
       "      <td>2</td>\n",
       "    </tr>\n",
       "    <tr>\n",
       "      <th>...</th>\n",
       "      <td>...</td>\n",
       "      <td>...</td>\n",
       "      <td>...</td>\n",
       "      <td>...</td>\n",
       "      <td>...</td>\n",
       "      <td>...</td>\n",
       "      <td>...</td>\n",
       "      <td>...</td>\n",
       "      <td>...</td>\n",
       "      <td>...</td>\n",
       "      <td>...</td>\n",
       "    </tr>\n",
       "    <tr>\n",
       "      <th>10095</th>\n",
       "      <td>1</td>\n",
       "      <td>1</td>\n",
       "      <td>1</td>\n",
       "      <td>0</td>\n",
       "      <td>0</td>\n",
       "      <td>277050</td>\n",
       "      <td>113172</td>\n",
       "      <td>1750000</td>\n",
       "      <td>36</td>\n",
       "      <td>1</td>\n",
       "      <td>2</td>\n",
       "    </tr>\n",
       "    <tr>\n",
       "      <th>10096</th>\n",
       "      <td>1</td>\n",
       "      <td>0</td>\n",
       "      <td>0</td>\n",
       "      <td>0</td>\n",
       "      <td>0</td>\n",
       "      <td>277150</td>\n",
       "      <td>113192</td>\n",
       "      <td>1800000</td>\n",
       "      <td>36</td>\n",
       "      <td>1</td>\n",
       "      <td>2</td>\n",
       "    </tr>\n",
       "    <tr>\n",
       "      <th>10097</th>\n",
       "      <td>0</td>\n",
       "      <td>0</td>\n",
       "      <td>0</td>\n",
       "      <td>0</td>\n",
       "      <td>0</td>\n",
       "      <td>277250</td>\n",
       "      <td>113212</td>\n",
       "      <td>1850000</td>\n",
       "      <td>36</td>\n",
       "      <td>1</td>\n",
       "      <td>2</td>\n",
       "    </tr>\n",
       "    <tr>\n",
       "      <th>10098</th>\n",
       "      <td>1</td>\n",
       "      <td>1</td>\n",
       "      <td>0</td>\n",
       "      <td>1</td>\n",
       "      <td>1</td>\n",
       "      <td>66845</td>\n",
       "      <td>40784</td>\n",
       "      <td>128365</td>\n",
       "      <td>36</td>\n",
       "      <td>0</td>\n",
       "      <td>0</td>\n",
       "    </tr>\n",
       "    <tr>\n",
       "      <th>10099</th>\n",
       "      <td>1</td>\n",
       "      <td>1</td>\n",
       "      <td>1</td>\n",
       "      <td>1</td>\n",
       "      <td>0</td>\n",
       "      <td>222000</td>\n",
       "      <td>175200</td>\n",
       "      <td>325600</td>\n",
       "      <td>24</td>\n",
       "      <td>0</td>\n",
       "      <td>0</td>\n",
       "    </tr>\n",
       "  </tbody>\n",
       "</table>\n",
       "<p>10100 rows × 11 columns</p>\n",
       "</div>"
      ],
      "text/plain": [
       "       Gender  Married  Dependents  Education  SelfEmployed  ApplicantIncome  \\\n",
       "0           1        0           0          0             0            78500   \n",
       "1           1        1           1          0             0            95200   \n",
       "2           1        1           0          0             0            87000   \n",
       "3           1        1           0          1             1            68000   \n",
       "4           1        0           0          0             0           196000   \n",
       "...       ...      ...         ...        ...           ...              ...   \n",
       "10095       1        1           1          0             0           277050   \n",
       "10096       1        0           0          0             0           277150   \n",
       "10097       0        0           0          0             0           277250   \n",
       "10098       1        1           0          1             1            66845   \n",
       "10099       1        1           1          1             0           222000   \n",
       "\n",
       "       CoapplicantIncome  DebtConsolidationAmount  Tenor  CreditHistory  \\\n",
       "0                  64800                   600000     36              1   \n",
       "1                  92400                   500000     36              1   \n",
       "2                  65000                   400000     36              1   \n",
       "3                  52130                   100000     36              0   \n",
       "4                  63000                   300000     36              1   \n",
       "...                  ...                      ...    ...            ...   \n",
       "10095             113172                  1750000     36              1   \n",
       "10096             113192                  1800000     36              1   \n",
       "10097             113212                  1850000     36              1   \n",
       "10098              40784                   128365     36              0   \n",
       "10099             175200                   325600     24              0   \n",
       "\n",
       "       PropertyArea  \n",
       "0                 2  \n",
       "1                 2  \n",
       "2                 2  \n",
       "3                 0  \n",
       "4                 2  \n",
       "...             ...  \n",
       "10095             2  \n",
       "10096             2  \n",
       "10097             2  \n",
       "10098             0  \n",
       "10099             0  \n",
       "\n",
       "[10100 rows x 11 columns]"
      ]
     },
     "execution_count": 20,
     "metadata": {},
     "output_type": "execute_result"
    }
   ],
   "source": [
    "X"
   ]
  },
  {
   "cell_type": "code",
   "execution_count": 22,
   "id": "e1f75fa3",
   "metadata": {},
   "outputs": [
    {
     "data": {
      "text/plain": [
       "0        1\n",
       "1        1\n",
       "2        1\n",
       "3        0\n",
       "4        1\n",
       "        ..\n",
       "10095    1\n",
       "10096    1\n",
       "10097    1\n",
       "10098    0\n",
       "10099    0\n",
       "Name: FacilityStatus, Length: 10100, dtype: int32"
      ]
     },
     "execution_count": 22,
     "metadata": {},
     "output_type": "execute_result"
    }
   ],
   "source": [
    "y"
   ]
  },
  {
   "cell_type": "code",
   "execution_count": 23,
   "id": "54a143cd",
   "metadata": {},
   "outputs": [],
   "source": [
    "from sklearn.naive_bayes import GaussianNB \n",
    "\n",
    "gfc = GaussianNB() \n",
    "gfc.fit(X_train, y_train) \n",
    "pred1 = gfc.predict(X_test)"
   ]
  },
  {
   "cell_type": "code",
   "execution_count": 24,
   "id": "7f782646",
   "metadata": {},
   "outputs": [],
   "source": [
    "from sklearn.metrics import precision_score, recall_score, accuracy_score \n",
    "\n",
    "def loss(y_true, y_pred): \n",
    "    pre=  precision_score(y_true, y_pred) \n",
    "    rec = recall_score(y_true, y_pred) \n",
    "    acc = accuracy_score(y_true, y_pred) \n",
    "    \n",
    "    print(pre) \n",
    "    print(rec) \n",
    "    print(acc)"
   ]
  },
  {
   "cell_type": "code",
   "execution_count": 25,
   "id": "585be308",
   "metadata": {},
   "outputs": [
    {
     "name": "stdout",
     "output_type": "stream",
     "text": [
      "0.9990445859872611\n",
      "1.0\n",
      "0.9992574257425743\n"
     ]
    }
   ],
   "source": [
    "loss(y_test, pred1)"
   ]
  },
  {
   "cell_type": "code",
   "execution_count": 23,
   "id": "74c9b742",
   "metadata": {},
   "outputs": [
    {
     "name": "stdout",
     "output_type": "stream",
     "text": [
      "Fitting 5 folds for each of 25 candidates, totalling 125 fits\n",
      "[CV 1/5] END ........C=0.1, gamma=1, kernel=rbf;, score=0.776 total time=   3.9s\n",
      "[CV 2/5] END ........C=0.1, gamma=1, kernel=rbf;, score=0.776 total time=   3.7s\n",
      "[CV 3/5] END ........C=0.1, gamma=1, kernel=rbf;, score=0.776 total time=   3.9s\n",
      "[CV 4/5] END ........C=0.1, gamma=1, kernel=rbf;, score=0.776 total time=   3.9s\n",
      "[CV 5/5] END ........C=0.1, gamma=1, kernel=rbf;, score=0.776 total time=   3.9s\n",
      "[CV 1/5] END ......C=0.1, gamma=0.1, kernel=rbf;, score=0.776 total time=   3.6s\n",
      "[CV 2/5] END ......C=0.1, gamma=0.1, kernel=rbf;, score=0.776 total time=   3.7s\n",
      "[CV 3/5] END ......C=0.1, gamma=0.1, kernel=rbf;, score=0.776 total time=   3.0s\n",
      "[CV 4/5] END ......C=0.1, gamma=0.1, kernel=rbf;, score=0.776 total time=   3.0s\n",
      "[CV 5/5] END ......C=0.1, gamma=0.1, kernel=rbf;, score=0.776 total time=   3.2s\n",
      "[CV 1/5] END .....C=0.1, gamma=0.01, kernel=rbf;, score=0.776 total time=   3.0s\n",
      "[CV 2/5] END .....C=0.1, gamma=0.01, kernel=rbf;, score=0.776 total time=   3.0s\n",
      "[CV 3/5] END .....C=0.1, gamma=0.01, kernel=rbf;, score=0.776 total time=   2.9s\n",
      "[CV 4/5] END .....C=0.1, gamma=0.01, kernel=rbf;, score=0.776 total time=   3.0s\n",
      "[CV 5/5] END .....C=0.1, gamma=0.01, kernel=rbf;, score=0.776 total time=   3.0s\n",
      "[CV 1/5] END ....C=0.1, gamma=0.001, kernel=rbf;, score=0.776 total time=   3.0s\n",
      "[CV 2/5] END ....C=0.1, gamma=0.001, kernel=rbf;, score=0.776 total time=   3.0s\n",
      "[CV 3/5] END ....C=0.1, gamma=0.001, kernel=rbf;, score=0.776 total time=   3.1s\n",
      "[CV 4/5] END ....C=0.1, gamma=0.001, kernel=rbf;, score=0.776 total time=   3.1s\n",
      "[CV 5/5] END ....C=0.1, gamma=0.001, kernel=rbf;, score=0.776 total time=   3.1s\n",
      "[CV 1/5] END ...C=0.1, gamma=0.0001, kernel=rbf;, score=0.776 total time=   3.0s\n",
      "[CV 2/5] END ...C=0.1, gamma=0.0001, kernel=rbf;, score=0.776 total time=   3.0s\n",
      "[CV 3/5] END ...C=0.1, gamma=0.0001, kernel=rbf;, score=0.776 total time=   3.1s\n",
      "[CV 4/5] END ...C=0.1, gamma=0.0001, kernel=rbf;, score=0.776 total time=   3.1s\n",
      "[CV 5/5] END ...C=0.1, gamma=0.0001, kernel=rbf;, score=0.776 total time=   3.3s\n",
      "[CV 1/5] END ..........C=1, gamma=1, kernel=rbf;, score=0.776 total time=   3.8s\n",
      "[CV 2/5] END ..........C=1, gamma=1, kernel=rbf;, score=0.776 total time=   3.8s\n",
      "[CV 3/5] END ..........C=1, gamma=1, kernel=rbf;, score=0.776 total time=   3.6s\n",
      "[CV 4/5] END ..........C=1, gamma=1, kernel=rbf;, score=0.776 total time=   3.6s\n",
      "[CV 5/5] END ..........C=1, gamma=1, kernel=rbf;, score=0.776 total time=   3.6s\n",
      "[CV 1/5] END ........C=1, gamma=0.1, kernel=rbf;, score=0.776 total time=   3.4s\n",
      "[CV 2/5] END ........C=1, gamma=0.1, kernel=rbf;, score=0.776 total time=   3.4s\n",
      "[CV 3/5] END ........C=1, gamma=0.1, kernel=rbf;, score=0.776 total time=   3.2s\n",
      "[CV 4/5] END ........C=1, gamma=0.1, kernel=rbf;, score=0.776 total time=   3.1s\n",
      "[CV 5/5] END ........C=1, gamma=0.1, kernel=rbf;, score=0.776 total time=   3.1s\n",
      "[CV 1/5] END .......C=1, gamma=0.01, kernel=rbf;, score=0.776 total time=   3.1s\n",
      "[CV 2/5] END .......C=1, gamma=0.01, kernel=rbf;, score=0.776 total time=   3.2s\n",
      "[CV 3/5] END .......C=1, gamma=0.01, kernel=rbf;, score=0.776 total time=   3.1s\n",
      "[CV 4/5] END .......C=1, gamma=0.01, kernel=rbf;, score=0.776 total time=   3.1s\n",
      "[CV 5/5] END .......C=1, gamma=0.01, kernel=rbf;, score=0.776 total time=   3.1s\n",
      "[CV 1/5] END ......C=1, gamma=0.001, kernel=rbf;, score=0.788 total time=   3.1s\n",
      "[CV 2/5] END ......C=1, gamma=0.001, kernel=rbf;, score=0.785 total time=   3.1s\n",
      "[CV 3/5] END ......C=1, gamma=0.001, kernel=rbf;, score=0.783 total time=   3.1s\n",
      "[CV 4/5] END ......C=1, gamma=0.001, kernel=rbf;, score=0.783 total time=   3.4s\n",
      "[CV 5/5] END ......C=1, gamma=0.001, kernel=rbf;, score=0.789 total time=   3.3s\n",
      "[CV 1/5] END .....C=1, gamma=0.0001, kernel=rbf;, score=0.823 total time=   3.2s\n",
      "[CV 2/5] END .....C=1, gamma=0.0001, kernel=rbf;, score=0.817 total time=   3.3s\n",
      "[CV 3/5] END .....C=1, gamma=0.0001, kernel=rbf;, score=0.816 total time=   3.3s\n",
      "[CV 4/5] END .....C=1, gamma=0.0001, kernel=rbf;, score=0.812 total time=   3.1s\n",
      "[CV 5/5] END .....C=1, gamma=0.0001, kernel=rbf;, score=0.817 total time=   3.1s\n",
      "[CV 1/5] END .........C=10, gamma=1, kernel=rbf;, score=0.776 total time=   3.3s\n",
      "[CV 2/5] END .........C=10, gamma=1, kernel=rbf;, score=0.776 total time=   3.2s\n",
      "[CV 3/5] END .........C=10, gamma=1, kernel=rbf;, score=0.776 total time=   3.3s\n",
      "[CV 4/5] END .........C=10, gamma=1, kernel=rbf;, score=0.776 total time=   3.3s\n",
      "[CV 5/5] END .........C=10, gamma=1, kernel=rbf;, score=0.776 total time=   3.2s\n",
      "[CV 1/5] END .......C=10, gamma=0.1, kernel=rbf;, score=0.776 total time=   3.3s\n",
      "[CV 2/5] END .......C=10, gamma=0.1, kernel=rbf;, score=0.776 total time=   3.2s\n",
      "[CV 3/5] END .......C=10, gamma=0.1, kernel=rbf;, score=0.776 total time=   3.2s\n",
      "[CV 4/5] END .......C=10, gamma=0.1, kernel=rbf;, score=0.776 total time=   3.3s\n",
      "[CV 5/5] END .......C=10, gamma=0.1, kernel=rbf;, score=0.776 total time=   3.2s\n",
      "[CV 1/5] END ......C=10, gamma=0.01, kernel=rbf;, score=0.776 total time=   3.3s\n",
      "[CV 2/5] END ......C=10, gamma=0.01, kernel=rbf;, score=0.776 total time=   3.5s\n",
      "[CV 3/5] END ......C=10, gamma=0.01, kernel=rbf;, score=0.776 total time=   3.5s\n",
      "[CV 4/5] END ......C=10, gamma=0.01, kernel=rbf;, score=0.776 total time=   3.5s\n",
      "[CV 5/5] END ......C=10, gamma=0.01, kernel=rbf;, score=0.776 total time=   3.3s\n",
      "[CV 1/5] END .....C=10, gamma=0.001, kernel=rbf;, score=0.791 total time=   3.2s\n",
      "[CV 2/5] END .....C=10, gamma=0.001, kernel=rbf;, score=0.790 total time=   3.1s\n",
      "[CV 3/5] END .....C=10, gamma=0.001, kernel=rbf;, score=0.785 total time=   3.2s\n",
      "[CV 4/5] END .....C=10, gamma=0.001, kernel=rbf;, score=0.789 total time=   3.2s\n",
      "[CV 5/5] END .....C=10, gamma=0.001, kernel=rbf;, score=0.793 total time=   3.1s\n",
      "[CV 1/5] END ....C=10, gamma=0.0001, kernel=rbf;, score=0.834 total time=   3.2s\n",
      "[CV 2/5] END ....C=10, gamma=0.0001, kernel=rbf;, score=0.828 total time=   3.2s\n",
      "[CV 3/5] END ....C=10, gamma=0.0001, kernel=rbf;, score=0.829 total time=   3.2s\n",
      "[CV 4/5] END ....C=10, gamma=0.0001, kernel=rbf;, score=0.826 total time=   3.1s\n",
      "[CV 5/5] END ....C=10, gamma=0.0001, kernel=rbf;, score=0.824 total time=   3.1s\n",
      "[CV 1/5] END ........C=100, gamma=1, kernel=rbf;, score=0.776 total time=   3.2s\n",
      "[CV 2/5] END ........C=100, gamma=1, kernel=rbf;, score=0.776 total time=   3.3s\n",
      "[CV 3/5] END ........C=100, gamma=1, kernel=rbf;, score=0.776 total time=   3.2s\n",
      "[CV 4/5] END ........C=100, gamma=1, kernel=rbf;, score=0.776 total time=   3.2s\n",
      "[CV 5/5] END ........C=100, gamma=1, kernel=rbf;, score=0.776 total time=   3.2s\n",
      "[CV 1/5] END ......C=100, gamma=0.1, kernel=rbf;, score=0.776 total time=   3.2s\n",
      "[CV 2/5] END ......C=100, gamma=0.1, kernel=rbf;, score=0.776 total time=   3.3s\n",
      "[CV 3/5] END ......C=100, gamma=0.1, kernel=rbf;, score=0.776 total time=   3.4s\n",
      "[CV 4/5] END ......C=100, gamma=0.1, kernel=rbf;, score=0.776 total time=   3.3s\n",
      "[CV 5/5] END ......C=100, gamma=0.1, kernel=rbf;, score=0.776 total time=   3.2s\n",
      "[CV 1/5] END .....C=100, gamma=0.01, kernel=rbf;, score=0.776 total time=   3.3s\n",
      "[CV 2/5] END .....C=100, gamma=0.01, kernel=rbf;, score=0.776 total time=   3.4s\n",
      "[CV 3/5] END .....C=100, gamma=0.01, kernel=rbf;, score=0.776 total time=   3.2s\n",
      "[CV 4/5] END .....C=100, gamma=0.01, kernel=rbf;, score=0.776 total time=   3.3s\n",
      "[CV 5/5] END .....C=100, gamma=0.01, kernel=rbf;, score=0.776 total time=   3.3s\n",
      "[CV 1/5] END ....C=100, gamma=0.001, kernel=rbf;, score=0.791 total time=   3.1s\n",
      "[CV 2/5] END ....C=100, gamma=0.001, kernel=rbf;, score=0.790 total time=   3.2s\n",
      "[CV 3/5] END ....C=100, gamma=0.001, kernel=rbf;, score=0.785 total time=   3.2s\n",
      "[CV 4/5] END ....C=100, gamma=0.001, kernel=rbf;, score=0.789 total time=   3.2s\n",
      "[CV 5/5] END ....C=100, gamma=0.001, kernel=rbf;, score=0.793 total time=   3.1s\n",
      "[CV 1/5] END ...C=100, gamma=0.0001, kernel=rbf;, score=0.834 total time=   3.1s\n",
      "[CV 2/5] END ...C=100, gamma=0.0001, kernel=rbf;, score=0.828 total time=   3.2s\n",
      "[CV 3/5] END ...C=100, gamma=0.0001, kernel=rbf;, score=0.829 total time=   3.3s\n",
      "[CV 4/5] END ...C=100, gamma=0.0001, kernel=rbf;, score=0.826 total time=   3.1s\n",
      "[CV 5/5] END ...C=100, gamma=0.0001, kernel=rbf;, score=0.824 total time=   3.1s\n",
      "[CV 1/5] END .......C=1000, gamma=1, kernel=rbf;, score=0.776 total time=   3.2s\n"
     ]
    },
    {
     "name": "stdout",
     "output_type": "stream",
     "text": [
      "[CV 2/5] END .......C=1000, gamma=1, kernel=rbf;, score=0.776 total time=   3.3s\n",
      "[CV 3/5] END .......C=1000, gamma=1, kernel=rbf;, score=0.776 total time=   3.2s\n",
      "[CV 4/5] END .......C=1000, gamma=1, kernel=rbf;, score=0.776 total time=   3.2s\n",
      "[CV 5/5] END .......C=1000, gamma=1, kernel=rbf;, score=0.776 total time=   3.2s\n",
      "[CV 1/5] END .....C=1000, gamma=0.1, kernel=rbf;, score=0.776 total time=   3.3s\n",
      "[CV 2/5] END .....C=1000, gamma=0.1, kernel=rbf;, score=0.776 total time=   3.5s\n",
      "[CV 3/5] END .....C=1000, gamma=0.1, kernel=rbf;, score=0.776 total time=   3.5s\n",
      "[CV 4/5] END .....C=1000, gamma=0.1, kernel=rbf;, score=0.776 total time=   3.4s\n",
      "[CV 5/5] END .....C=1000, gamma=0.1, kernel=rbf;, score=0.776 total time=   3.4s\n",
      "[CV 1/5] END ....C=1000, gamma=0.01, kernel=rbf;, score=0.776 total time=   3.4s\n",
      "[CV 2/5] END ....C=1000, gamma=0.01, kernel=rbf;, score=0.776 total time=   3.5s\n",
      "[CV 3/5] END ....C=1000, gamma=0.01, kernel=rbf;, score=0.776 total time=   3.9s\n",
      "[CV 4/5] END ....C=1000, gamma=0.01, kernel=rbf;, score=0.776 total time=   3.9s\n",
      "[CV 5/5] END ....C=1000, gamma=0.01, kernel=rbf;, score=0.776 total time=   3.7s\n",
      "[CV 1/5] END ...C=1000, gamma=0.001, kernel=rbf;, score=0.791 total time=   3.3s\n",
      "[CV 2/5] END ...C=1000, gamma=0.001, kernel=rbf;, score=0.790 total time=   3.3s\n",
      "[CV 3/5] END ...C=1000, gamma=0.001, kernel=rbf;, score=0.785 total time=   3.3s\n",
      "[CV 4/5] END ...C=1000, gamma=0.001, kernel=rbf;, score=0.789 total time=   3.3s\n",
      "[CV 5/5] END ...C=1000, gamma=0.001, kernel=rbf;, score=0.793 total time=   3.2s\n",
      "[CV 1/5] END ..C=1000, gamma=0.0001, kernel=rbf;, score=0.834 total time=   3.2s\n",
      "[CV 2/5] END ..C=1000, gamma=0.0001, kernel=rbf;, score=0.828 total time=   3.2s\n",
      "[CV 3/5] END ..C=1000, gamma=0.0001, kernel=rbf;, score=0.829 total time=   3.4s\n",
      "[CV 4/5] END ..C=1000, gamma=0.0001, kernel=rbf;, score=0.826 total time=   4.1s\n",
      "[CV 5/5] END ..C=1000, gamma=0.0001, kernel=rbf;, score=0.824 total time=   3.5s\n"
     ]
    },
    {
     "data": {
      "text/html": [
       "<style>#sk-container-id-1 {color: black;background-color: white;}#sk-container-id-1 pre{padding: 0;}#sk-container-id-1 div.sk-toggleable {background-color: white;}#sk-container-id-1 label.sk-toggleable__label {cursor: pointer;display: block;width: 100%;margin-bottom: 0;padding: 0.3em;box-sizing: border-box;text-align: center;}#sk-container-id-1 label.sk-toggleable__label-arrow:before {content: \"▸\";float: left;margin-right: 0.25em;color: #696969;}#sk-container-id-1 label.sk-toggleable__label-arrow:hover:before {color: black;}#sk-container-id-1 div.sk-estimator:hover label.sk-toggleable__label-arrow:before {color: black;}#sk-container-id-1 div.sk-toggleable__content {max-height: 0;max-width: 0;overflow: hidden;text-align: left;background-color: #f0f8ff;}#sk-container-id-1 div.sk-toggleable__content pre {margin: 0.2em;color: black;border-radius: 0.25em;background-color: #f0f8ff;}#sk-container-id-1 input.sk-toggleable__control:checked~div.sk-toggleable__content {max-height: 200px;max-width: 100%;overflow: auto;}#sk-container-id-1 input.sk-toggleable__control:checked~label.sk-toggleable__label-arrow:before {content: \"▾\";}#sk-container-id-1 div.sk-estimator input.sk-toggleable__control:checked~label.sk-toggleable__label {background-color: #d4ebff;}#sk-container-id-1 div.sk-label input.sk-toggleable__control:checked~label.sk-toggleable__label {background-color: #d4ebff;}#sk-container-id-1 input.sk-hidden--visually {border: 0;clip: rect(1px 1px 1px 1px);clip: rect(1px, 1px, 1px, 1px);height: 1px;margin: -1px;overflow: hidden;padding: 0;position: absolute;width: 1px;}#sk-container-id-1 div.sk-estimator {font-family: monospace;background-color: #f0f8ff;border: 1px dotted black;border-radius: 0.25em;box-sizing: border-box;margin-bottom: 0.5em;}#sk-container-id-1 div.sk-estimator:hover {background-color: #d4ebff;}#sk-container-id-1 div.sk-parallel-item::after {content: \"\";width: 100%;border-bottom: 1px solid gray;flex-grow: 1;}#sk-container-id-1 div.sk-label:hover label.sk-toggleable__label {background-color: #d4ebff;}#sk-container-id-1 div.sk-serial::before {content: \"\";position: absolute;border-left: 1px solid gray;box-sizing: border-box;top: 0;bottom: 0;left: 50%;z-index: 0;}#sk-container-id-1 div.sk-serial {display: flex;flex-direction: column;align-items: center;background-color: white;padding-right: 0.2em;padding-left: 0.2em;position: relative;}#sk-container-id-1 div.sk-item {position: relative;z-index: 1;}#sk-container-id-1 div.sk-parallel {display: flex;align-items: stretch;justify-content: center;background-color: white;position: relative;}#sk-container-id-1 div.sk-item::before, #sk-container-id-1 div.sk-parallel-item::before {content: \"\";position: absolute;border-left: 1px solid gray;box-sizing: border-box;top: 0;bottom: 0;left: 50%;z-index: -1;}#sk-container-id-1 div.sk-parallel-item {display: flex;flex-direction: column;z-index: 1;position: relative;background-color: white;}#sk-container-id-1 div.sk-parallel-item:first-child::after {align-self: flex-end;width: 50%;}#sk-container-id-1 div.sk-parallel-item:last-child::after {align-self: flex-start;width: 50%;}#sk-container-id-1 div.sk-parallel-item:only-child::after {width: 0;}#sk-container-id-1 div.sk-dashed-wrapped {border: 1px dashed gray;margin: 0 0.4em 0.5em 0.4em;box-sizing: border-box;padding-bottom: 0.4em;background-color: white;}#sk-container-id-1 div.sk-label label {font-family: monospace;font-weight: bold;display: inline-block;line-height: 1.2em;}#sk-container-id-1 div.sk-label-container {text-align: center;}#sk-container-id-1 div.sk-container {/* jupyter's `normalize.less` sets `[hidden] { display: none; }` but bootstrap.min.css set `[hidden] { display: none !important; }` so we also need the `!important` here to be able to override the default hidden behavior on the sphinx rendered scikit-learn.org. See: https://github.com/scikit-learn/scikit-learn/issues/21755 */display: inline-block !important;position: relative;}#sk-container-id-1 div.sk-text-repr-fallback {display: none;}</style><div id=\"sk-container-id-1\" class=\"sk-top-container\"><div class=\"sk-text-repr-fallback\"><pre>GridSearchCV(estimator=SVC(),\n",
       "             param_grid={&#x27;C&#x27;: [0.1, 1, 10, 100, 1000],\n",
       "                         &#x27;gamma&#x27;: [1, 0.1, 0.01, 0.001, 0.0001],\n",
       "                         &#x27;kernel&#x27;: [&#x27;rbf&#x27;]},\n",
       "             verbose=3)</pre><b>In a Jupyter environment, please rerun this cell to show the HTML representation or trust the notebook. <br />On GitHub, the HTML representation is unable to render, please try loading this page with nbviewer.org.</b></div><div class=\"sk-container\" hidden><div class=\"sk-item sk-dashed-wrapped\"><div class=\"sk-label-container\"><div class=\"sk-label sk-toggleable\"><input class=\"sk-toggleable__control sk-hidden--visually\" id=\"sk-estimator-id-1\" type=\"checkbox\" ><label for=\"sk-estimator-id-1\" class=\"sk-toggleable__label sk-toggleable__label-arrow\">GridSearchCV</label><div class=\"sk-toggleable__content\"><pre>GridSearchCV(estimator=SVC(),\n",
       "             param_grid={&#x27;C&#x27;: [0.1, 1, 10, 100, 1000],\n",
       "                         &#x27;gamma&#x27;: [1, 0.1, 0.01, 0.001, 0.0001],\n",
       "                         &#x27;kernel&#x27;: [&#x27;rbf&#x27;]},\n",
       "             verbose=3)</pre></div></div></div><div class=\"sk-parallel\"><div class=\"sk-parallel-item\"><div class=\"sk-item\"><div class=\"sk-label-container\"><div class=\"sk-label sk-toggleable\"><input class=\"sk-toggleable__control sk-hidden--visually\" id=\"sk-estimator-id-2\" type=\"checkbox\" ><label for=\"sk-estimator-id-2\" class=\"sk-toggleable__label sk-toggleable__label-arrow\">estimator: SVC</label><div class=\"sk-toggleable__content\"><pre>SVC()</pre></div></div></div><div class=\"sk-serial\"><div class=\"sk-item\"><div class=\"sk-estimator sk-toggleable\"><input class=\"sk-toggleable__control sk-hidden--visually\" id=\"sk-estimator-id-3\" type=\"checkbox\" ><label for=\"sk-estimator-id-3\" class=\"sk-toggleable__label sk-toggleable__label-arrow\">SVC</label><div class=\"sk-toggleable__content\"><pre>SVC()</pre></div></div></div></div></div></div></div></div></div></div>"
      ],
      "text/plain": [
       "GridSearchCV(estimator=SVC(),\n",
       "             param_grid={'C': [0.1, 1, 10, 100, 1000],\n",
       "                         'gamma': [1, 0.1, 0.01, 0.001, 0.0001],\n",
       "                         'kernel': ['rbf']},\n",
       "             verbose=3)"
      ]
     },
     "execution_count": 23,
     "metadata": {},
     "output_type": "execute_result"
    }
   ],
   "source": [
    "from sklearn.svm import SVC \n",
    "from sklearn.model_selection import GridSearchCV \n",
    "\n",
    "# defining parameter range\n",
    "param_grid = {'C': [0.1, 1, 10, 100, 1000], \n",
    "              'gamma': [1, 0.1, 0.01, 0.001, 0.0001],\n",
    "              'kernel': ['rbf']} \n",
    "grid = GridSearchCV(SVC(), param_grid, refit=True, verbose =3) \n",
    "grid.fit(X_train, y_train)"
   ]
  },
  {
   "cell_type": "code",
   "execution_count": 24,
   "id": "9a2990ab",
   "metadata": {},
   "outputs": [
    {
     "data": {
      "text/plain": [
       "{'C': 10, 'gamma': 0.0001, 'kernel': 'rbf'}"
      ]
     },
     "execution_count": 24,
     "metadata": {},
     "output_type": "execute_result"
    }
   ],
   "source": [
    "grid.best_params_"
   ]
  },
  {
   "cell_type": "code",
   "execution_count": 25,
   "id": "552123fa",
   "metadata": {},
   "outputs": [
    {
     "name": "stdout",
     "output_type": "stream",
     "text": [
      "0.7764851485148515\n",
      "1.0\n",
      "0.7764851485148515\n"
     ]
    }
   ],
   "source": [
    "svc = SVC(C= 0.1, gamma= 1, kernel= 'rbf')  \n",
    "svc.fit(X_train, y_train) \n",
    "pred2 = svc.predict(X_test) \n",
    "loss(y_test,pred2)"
   ]
  },
  {
   "cell_type": "code",
   "execution_count": 26,
   "id": "f8dfac2b",
   "metadata": {},
   "outputs": [
    {
     "name": "stdout",
     "output_type": "stream",
     "text": [
      "1.0\n",
      "1.0\n",
      "1.0\n"
     ]
    }
   ],
   "source": [
    "from xgboost import XGBClassifier \n",
    "\n",
    "xgb = XGBClassifier(learning_rate =0.1,\n",
    " n_estimators=1000,\n",
    " max_depth=3,\n",
    " min_child_weight=1,\n",
    " gamma=0,\n",
    " subsample=0.8,\n",
    " colsample_bytree=0.8,\n",
    " objective= 'binary:logistic',\n",
    " nthread=4,\n",
    " scale_pos_weight=1,\n",
    " seed=27)\n",
    "xgb.fit(X_train, y_train) \n",
    "pred3 = xgb.predict(X_test) \n",
    "loss(y_test, pred3)"
   ]
  },
  {
   "cell_type": "code",
   "execution_count": 27,
   "id": "efa196ff",
   "metadata": {},
   "outputs": [],
   "source": [
    "from sklearn.tree import DecisionTreeClassifier\n",
    "from sklearn.model_selection import RandomizedSearchCV \n",
    "\n",
    "def randomized_search(params, runs=20, clf=DecisionTreeClassifier(random_state=2)): \n",
    "    rand_clf = RandomizedSearchCV(clf, params, n_iter=runs, cv=5, n_jobs=-1, random_state=2) \n",
    "    rand_clf.fit(X_train, y_train) \n",
    "    best_model = rand_clf.best_estimator_\n",
    "    \n",
    "    # Extract best score\n",
    "    best_score = rand_clf.best_score_\n",
    "\n",
    "    # Print best score\n",
    "    print(\"Training score: {:.3f}\".format(best_score))\n",
    "\n",
    "    # Predict test set labels\n",
    "    y_pred = best_model.predict(X_test)\n",
    "\n",
    "    # Compute accuracy\n",
    "    accuracy = accuracy_score(y_test, y_pred)\n",
    "\n",
    "    # Print accuracy\n",
    "    print('Test score: {:.3f}'.format(accuracy))\n",
    "    \n",
    "    return best_model"
   ]
  },
  {
   "cell_type": "code",
   "execution_count": 28,
   "id": "1a366430",
   "metadata": {},
   "outputs": [
    {
     "name": "stdout",
     "output_type": "stream",
     "text": [
      "Training score: 1.000\n",
      "Test score: 1.000\n"
     ]
    },
    {
     "data": {
      "text/html": [
       "<style>#sk-container-id-2 {color: black;background-color: white;}#sk-container-id-2 pre{padding: 0;}#sk-container-id-2 div.sk-toggleable {background-color: white;}#sk-container-id-2 label.sk-toggleable__label {cursor: pointer;display: block;width: 100%;margin-bottom: 0;padding: 0.3em;box-sizing: border-box;text-align: center;}#sk-container-id-2 label.sk-toggleable__label-arrow:before {content: \"▸\";float: left;margin-right: 0.25em;color: #696969;}#sk-container-id-2 label.sk-toggleable__label-arrow:hover:before {color: black;}#sk-container-id-2 div.sk-estimator:hover label.sk-toggleable__label-arrow:before {color: black;}#sk-container-id-2 div.sk-toggleable__content {max-height: 0;max-width: 0;overflow: hidden;text-align: left;background-color: #f0f8ff;}#sk-container-id-2 div.sk-toggleable__content pre {margin: 0.2em;color: black;border-radius: 0.25em;background-color: #f0f8ff;}#sk-container-id-2 input.sk-toggleable__control:checked~div.sk-toggleable__content {max-height: 200px;max-width: 100%;overflow: auto;}#sk-container-id-2 input.sk-toggleable__control:checked~label.sk-toggleable__label-arrow:before {content: \"▾\";}#sk-container-id-2 div.sk-estimator input.sk-toggleable__control:checked~label.sk-toggleable__label {background-color: #d4ebff;}#sk-container-id-2 div.sk-label input.sk-toggleable__control:checked~label.sk-toggleable__label {background-color: #d4ebff;}#sk-container-id-2 input.sk-hidden--visually {border: 0;clip: rect(1px 1px 1px 1px);clip: rect(1px, 1px, 1px, 1px);height: 1px;margin: -1px;overflow: hidden;padding: 0;position: absolute;width: 1px;}#sk-container-id-2 div.sk-estimator {font-family: monospace;background-color: #f0f8ff;border: 1px dotted black;border-radius: 0.25em;box-sizing: border-box;margin-bottom: 0.5em;}#sk-container-id-2 div.sk-estimator:hover {background-color: #d4ebff;}#sk-container-id-2 div.sk-parallel-item::after {content: \"\";width: 100%;border-bottom: 1px solid gray;flex-grow: 1;}#sk-container-id-2 div.sk-label:hover label.sk-toggleable__label {background-color: #d4ebff;}#sk-container-id-2 div.sk-serial::before {content: \"\";position: absolute;border-left: 1px solid gray;box-sizing: border-box;top: 0;bottom: 0;left: 50%;z-index: 0;}#sk-container-id-2 div.sk-serial {display: flex;flex-direction: column;align-items: center;background-color: white;padding-right: 0.2em;padding-left: 0.2em;position: relative;}#sk-container-id-2 div.sk-item {position: relative;z-index: 1;}#sk-container-id-2 div.sk-parallel {display: flex;align-items: stretch;justify-content: center;background-color: white;position: relative;}#sk-container-id-2 div.sk-item::before, #sk-container-id-2 div.sk-parallel-item::before {content: \"\";position: absolute;border-left: 1px solid gray;box-sizing: border-box;top: 0;bottom: 0;left: 50%;z-index: -1;}#sk-container-id-2 div.sk-parallel-item {display: flex;flex-direction: column;z-index: 1;position: relative;background-color: white;}#sk-container-id-2 div.sk-parallel-item:first-child::after {align-self: flex-end;width: 50%;}#sk-container-id-2 div.sk-parallel-item:last-child::after {align-self: flex-start;width: 50%;}#sk-container-id-2 div.sk-parallel-item:only-child::after {width: 0;}#sk-container-id-2 div.sk-dashed-wrapped {border: 1px dashed gray;margin: 0 0.4em 0.5em 0.4em;box-sizing: border-box;padding-bottom: 0.4em;background-color: white;}#sk-container-id-2 div.sk-label label {font-family: monospace;font-weight: bold;display: inline-block;line-height: 1.2em;}#sk-container-id-2 div.sk-label-container {text-align: center;}#sk-container-id-2 div.sk-container {/* jupyter's `normalize.less` sets `[hidden] { display: none; }` but bootstrap.min.css set `[hidden] { display: none !important; }` so we also need the `!important` here to be able to override the default hidden behavior on the sphinx rendered scikit-learn.org. See: https://github.com/scikit-learn/scikit-learn/issues/21755 */display: inline-block !important;position: relative;}#sk-container-id-2 div.sk-text-repr-fallback {display: none;}</style><div id=\"sk-container-id-2\" class=\"sk-top-container\"><div class=\"sk-text-repr-fallback\"><pre>DecisionTreeClassifier(criterion=&#x27;entropy&#x27;, max_features=0.85,\n",
       "                       max_leaf_nodes=30, min_impurity_decrease=0.005,\n",
       "                       min_samples_split=10, min_weight_fraction_leaf=0.0075,\n",
       "                       random_state=2)</pre><b>In a Jupyter environment, please rerun this cell to show the HTML representation or trust the notebook. <br />On GitHub, the HTML representation is unable to render, please try loading this page with nbviewer.org.</b></div><div class=\"sk-container\" hidden><div class=\"sk-item\"><div class=\"sk-estimator sk-toggleable\"><input class=\"sk-toggleable__control sk-hidden--visually\" id=\"sk-estimator-id-4\" type=\"checkbox\" checked><label for=\"sk-estimator-id-4\" class=\"sk-toggleable__label sk-toggleable__label-arrow\">DecisionTreeClassifier</label><div class=\"sk-toggleable__content\"><pre>DecisionTreeClassifier(criterion=&#x27;entropy&#x27;, max_features=0.85,\n",
       "                       max_leaf_nodes=30, min_impurity_decrease=0.005,\n",
       "                       min_samples_split=10, min_weight_fraction_leaf=0.0075,\n",
       "                       random_state=2)</pre></div></div></div></div></div>"
      ],
      "text/plain": [
       "DecisionTreeClassifier(criterion='entropy', max_features=0.85,\n",
       "                       max_leaf_nodes=30, min_impurity_decrease=0.005,\n",
       "                       min_samples_split=10, min_weight_fraction_leaf=0.0075,\n",
       "                       random_state=2)"
      ]
     },
     "execution_count": 28,
     "metadata": {},
     "output_type": "execute_result"
    }
   ],
   "source": [
    "randomized_search(params={'criterion':['entropy', 'gini'],\n",
    "                              'splitter':['random', 'best'],\n",
    "                          'min_weight_fraction_leaf':[0.0, 0.0025, 0.005, 0.0075, 0.01],\n",
    "                          'min_samples_split':[2, 3, 4, 5, 6, 8, 10],\n",
    "                          'min_samples_leaf':[1, 0.01, 0.02, 0.03, 0.04],\n",
    "                          'min_impurity_decrease':[0.0, 0.0005, 0.005, 0.05, 0.10, 0.15, 0.2],\n",
    "                          'max_leaf_nodes':[10, 15, 20, 25, 30, 35, 40, 45, 50, None],\n",
    "                          'max_features':['auto', 0.95, 0.90, 0.85, 0.80, 0.75, 0.70],\n",
    "                          'max_depth':[None, 2,4,6,8],\n",
    "                          'min_weight_fraction_leaf':[0.0, 0.0025, 0.005, 0.0075, 0.01, 0.05]\n",
    "                         })"
   ]
  },
  {
   "cell_type": "code",
   "execution_count": 29,
   "id": "cf5cb00e",
   "metadata": {},
   "outputs": [
    {
     "name": "stdout",
     "output_type": "stream",
     "text": [
      "0.9996809189534142\n",
      "0.9987248963978324\n",
      "0.9987623762376238\n"
     ]
    }
   ],
   "source": [
    "ds = DecisionTreeClassifier(max_depth=8, max_features=0.9, max_leaf_nodes=30,\n",
    "                       min_impurity_decrease=0.05, min_samples_leaf=0.02,\n",
    "                       min_samples_split=10, min_weight_fraction_leaf=0.005,\n",
    "                       random_state=2, splitter='random') \n",
    "ds.fit(X_train, y_train) \n",
    "pred4 =ds.predict(X_test) \n",
    "loss(y_test, pred4)"
   ]
  },
  {
   "cell_type": "code",
   "execution_count": 30,
   "id": "95978fee",
   "metadata": {},
   "outputs": [
    {
     "name": "stderr",
     "output_type": "stream",
     "text": [
      "C:\\Users\\nipun\\anaconda3\\lib\\site-packages\\sklearn\\ensemble\\_forest.py:424: FutureWarning: `max_features='auto'` has been deprecated in 1.1 and will be removed in 1.3. To keep the past behaviour, explicitly set `max_features='sqrt'` or remove this parameter as it is also the default value for RandomForestClassifiers and ExtraTreesClassifiers.\n",
      "  warn(\n"
     ]
    },
    {
     "name": "stdout",
     "output_type": "stream",
     "text": [
      "Training score: 1.000\n",
      "Test score: 1.000\n"
     ]
    },
    {
     "data": {
      "text/html": [
       "<style>#sk-container-id-3 {color: black;background-color: white;}#sk-container-id-3 pre{padding: 0;}#sk-container-id-3 div.sk-toggleable {background-color: white;}#sk-container-id-3 label.sk-toggleable__label {cursor: pointer;display: block;width: 100%;margin-bottom: 0;padding: 0.3em;box-sizing: border-box;text-align: center;}#sk-container-id-3 label.sk-toggleable__label-arrow:before {content: \"▸\";float: left;margin-right: 0.25em;color: #696969;}#sk-container-id-3 label.sk-toggleable__label-arrow:hover:before {color: black;}#sk-container-id-3 div.sk-estimator:hover label.sk-toggleable__label-arrow:before {color: black;}#sk-container-id-3 div.sk-toggleable__content {max-height: 0;max-width: 0;overflow: hidden;text-align: left;background-color: #f0f8ff;}#sk-container-id-3 div.sk-toggleable__content pre {margin: 0.2em;color: black;border-radius: 0.25em;background-color: #f0f8ff;}#sk-container-id-3 input.sk-toggleable__control:checked~div.sk-toggleable__content {max-height: 200px;max-width: 100%;overflow: auto;}#sk-container-id-3 input.sk-toggleable__control:checked~label.sk-toggleable__label-arrow:before {content: \"▾\";}#sk-container-id-3 div.sk-estimator input.sk-toggleable__control:checked~label.sk-toggleable__label {background-color: #d4ebff;}#sk-container-id-3 div.sk-label input.sk-toggleable__control:checked~label.sk-toggleable__label {background-color: #d4ebff;}#sk-container-id-3 input.sk-hidden--visually {border: 0;clip: rect(1px 1px 1px 1px);clip: rect(1px, 1px, 1px, 1px);height: 1px;margin: -1px;overflow: hidden;padding: 0;position: absolute;width: 1px;}#sk-container-id-3 div.sk-estimator {font-family: monospace;background-color: #f0f8ff;border: 1px dotted black;border-radius: 0.25em;box-sizing: border-box;margin-bottom: 0.5em;}#sk-container-id-3 div.sk-estimator:hover {background-color: #d4ebff;}#sk-container-id-3 div.sk-parallel-item::after {content: \"\";width: 100%;border-bottom: 1px solid gray;flex-grow: 1;}#sk-container-id-3 div.sk-label:hover label.sk-toggleable__label {background-color: #d4ebff;}#sk-container-id-3 div.sk-serial::before {content: \"\";position: absolute;border-left: 1px solid gray;box-sizing: border-box;top: 0;bottom: 0;left: 50%;z-index: 0;}#sk-container-id-3 div.sk-serial {display: flex;flex-direction: column;align-items: center;background-color: white;padding-right: 0.2em;padding-left: 0.2em;position: relative;}#sk-container-id-3 div.sk-item {position: relative;z-index: 1;}#sk-container-id-3 div.sk-parallel {display: flex;align-items: stretch;justify-content: center;background-color: white;position: relative;}#sk-container-id-3 div.sk-item::before, #sk-container-id-3 div.sk-parallel-item::before {content: \"\";position: absolute;border-left: 1px solid gray;box-sizing: border-box;top: 0;bottom: 0;left: 50%;z-index: -1;}#sk-container-id-3 div.sk-parallel-item {display: flex;flex-direction: column;z-index: 1;position: relative;background-color: white;}#sk-container-id-3 div.sk-parallel-item:first-child::after {align-self: flex-end;width: 50%;}#sk-container-id-3 div.sk-parallel-item:last-child::after {align-self: flex-start;width: 50%;}#sk-container-id-3 div.sk-parallel-item:only-child::after {width: 0;}#sk-container-id-3 div.sk-dashed-wrapped {border: 1px dashed gray;margin: 0 0.4em 0.5em 0.4em;box-sizing: border-box;padding-bottom: 0.4em;background-color: white;}#sk-container-id-3 div.sk-label label {font-family: monospace;font-weight: bold;display: inline-block;line-height: 1.2em;}#sk-container-id-3 div.sk-label-container {text-align: center;}#sk-container-id-3 div.sk-container {/* jupyter's `normalize.less` sets `[hidden] { display: none; }` but bootstrap.min.css set `[hidden] { display: none !important; }` so we also need the `!important` here to be able to override the default hidden behavior on the sphinx rendered scikit-learn.org. See: https://github.com/scikit-learn/scikit-learn/issues/21755 */display: inline-block !important;position: relative;}#sk-container-id-3 div.sk-text-repr-fallback {display: none;}</style><div id=\"sk-container-id-3\" class=\"sk-top-container\"><div class=\"sk-text-repr-fallback\"><pre>RandomForestClassifier(max_depth=8, max_features=&#x27;auto&#x27;,\n",
       "                       min_impurity_decrease=0.2, random_state=2)</pre><b>In a Jupyter environment, please rerun this cell to show the HTML representation or trust the notebook. <br />On GitHub, the HTML representation is unable to render, please try loading this page with nbviewer.org.</b></div><div class=\"sk-container\" hidden><div class=\"sk-item\"><div class=\"sk-estimator sk-toggleable\"><input class=\"sk-toggleable__control sk-hidden--visually\" id=\"sk-estimator-id-5\" type=\"checkbox\" checked><label for=\"sk-estimator-id-5\" class=\"sk-toggleable__label sk-toggleable__label-arrow\">RandomForestClassifier</label><div class=\"sk-toggleable__content\"><pre>RandomForestClassifier(max_depth=8, max_features=&#x27;auto&#x27;,\n",
       "                       min_impurity_decrease=0.2, random_state=2)</pre></div></div></div></div></div>"
      ],
      "text/plain": [
       "RandomForestClassifier(max_depth=8, max_features='auto',\n",
       "                       min_impurity_decrease=0.2, random_state=2)"
      ]
     },
     "execution_count": 30,
     "metadata": {},
     "output_type": "execute_result"
    }
   ],
   "source": [
    "from sklearn.ensemble import RandomForestClassifier \n",
    "\n",
    "randomized_search(params={\n",
    "                         'min_samples_leaf':[1,2,4,6,8,10,20,30],\n",
    "                          'min_impurity_decrease':[0.0, 0.01, 0.05, 0.10, 0.15, 0.2],\n",
    "                          'max_features':['auto', 0.8, 0.7, 0.6, 0.5, 0.4],\n",
    "                          'max_depth':[None,2,4,6,8,10,20], \n",
    "                         }, clf=RandomForestClassifier(random_state=2)) "
   ]
  },
  {
   "cell_type": "code",
   "execution_count": 32,
   "id": "82332435",
   "metadata": {},
   "outputs": [
    {
     "name": "stdout",
     "output_type": "stream",
     "text": [
      "Training score: 1.000\n",
      "Test score: 1.000\n"
     ]
    },
    {
     "data": {
      "text/html": [
       "<style>#sk-container-id-4 {color: black;background-color: white;}#sk-container-id-4 pre{padding: 0;}#sk-container-id-4 div.sk-toggleable {background-color: white;}#sk-container-id-4 label.sk-toggleable__label {cursor: pointer;display: block;width: 100%;margin-bottom: 0;padding: 0.3em;box-sizing: border-box;text-align: center;}#sk-container-id-4 label.sk-toggleable__label-arrow:before {content: \"▸\";float: left;margin-right: 0.25em;color: #696969;}#sk-container-id-4 label.sk-toggleable__label-arrow:hover:before {color: black;}#sk-container-id-4 div.sk-estimator:hover label.sk-toggleable__label-arrow:before {color: black;}#sk-container-id-4 div.sk-toggleable__content {max-height: 0;max-width: 0;overflow: hidden;text-align: left;background-color: #f0f8ff;}#sk-container-id-4 div.sk-toggleable__content pre {margin: 0.2em;color: black;border-radius: 0.25em;background-color: #f0f8ff;}#sk-container-id-4 input.sk-toggleable__control:checked~div.sk-toggleable__content {max-height: 200px;max-width: 100%;overflow: auto;}#sk-container-id-4 input.sk-toggleable__control:checked~label.sk-toggleable__label-arrow:before {content: \"▾\";}#sk-container-id-4 div.sk-estimator input.sk-toggleable__control:checked~label.sk-toggleable__label {background-color: #d4ebff;}#sk-container-id-4 div.sk-label input.sk-toggleable__control:checked~label.sk-toggleable__label {background-color: #d4ebff;}#sk-container-id-4 input.sk-hidden--visually {border: 0;clip: rect(1px 1px 1px 1px);clip: rect(1px, 1px, 1px, 1px);height: 1px;margin: -1px;overflow: hidden;padding: 0;position: absolute;width: 1px;}#sk-container-id-4 div.sk-estimator {font-family: monospace;background-color: #f0f8ff;border: 1px dotted black;border-radius: 0.25em;box-sizing: border-box;margin-bottom: 0.5em;}#sk-container-id-4 div.sk-estimator:hover {background-color: #d4ebff;}#sk-container-id-4 div.sk-parallel-item::after {content: \"\";width: 100%;border-bottom: 1px solid gray;flex-grow: 1;}#sk-container-id-4 div.sk-label:hover label.sk-toggleable__label {background-color: #d4ebff;}#sk-container-id-4 div.sk-serial::before {content: \"\";position: absolute;border-left: 1px solid gray;box-sizing: border-box;top: 0;bottom: 0;left: 50%;z-index: 0;}#sk-container-id-4 div.sk-serial {display: flex;flex-direction: column;align-items: center;background-color: white;padding-right: 0.2em;padding-left: 0.2em;position: relative;}#sk-container-id-4 div.sk-item {position: relative;z-index: 1;}#sk-container-id-4 div.sk-parallel {display: flex;align-items: stretch;justify-content: center;background-color: white;position: relative;}#sk-container-id-4 div.sk-item::before, #sk-container-id-4 div.sk-parallel-item::before {content: \"\";position: absolute;border-left: 1px solid gray;box-sizing: border-box;top: 0;bottom: 0;left: 50%;z-index: -1;}#sk-container-id-4 div.sk-parallel-item {display: flex;flex-direction: column;z-index: 1;position: relative;background-color: white;}#sk-container-id-4 div.sk-parallel-item:first-child::after {align-self: flex-end;width: 50%;}#sk-container-id-4 div.sk-parallel-item:last-child::after {align-self: flex-start;width: 50%;}#sk-container-id-4 div.sk-parallel-item:only-child::after {width: 0;}#sk-container-id-4 div.sk-dashed-wrapped {border: 1px dashed gray;margin: 0 0.4em 0.5em 0.4em;box-sizing: border-box;padding-bottom: 0.4em;background-color: white;}#sk-container-id-4 div.sk-label label {font-family: monospace;font-weight: bold;display: inline-block;line-height: 1.2em;}#sk-container-id-4 div.sk-label-container {text-align: center;}#sk-container-id-4 div.sk-container {/* jupyter's `normalize.less` sets `[hidden] { display: none; }` but bootstrap.min.css set `[hidden] { display: none !important; }` so we also need the `!important` here to be able to override the default hidden behavior on the sphinx rendered scikit-learn.org. See: https://github.com/scikit-learn/scikit-learn/issues/21755 */display: inline-block !important;position: relative;}#sk-container-id-4 div.sk-text-repr-fallback {display: none;}</style><div id=\"sk-container-id-4\" class=\"sk-top-container\"><div class=\"sk-text-repr-fallback\"><pre>RandomForestClassifier(max_depth=8, min_impurity_decrease=0.2, random_state=2)</pre><b>In a Jupyter environment, please rerun this cell to show the HTML representation or trust the notebook. <br />On GitHub, the HTML representation is unable to render, please try loading this page with nbviewer.org.</b></div><div class=\"sk-container\" hidden><div class=\"sk-item\"><div class=\"sk-estimator sk-toggleable\"><input class=\"sk-toggleable__control sk-hidden--visually\" id=\"sk-estimator-id-6\" type=\"checkbox\" checked><label for=\"sk-estimator-id-6\" class=\"sk-toggleable__label sk-toggleable__label-arrow\">RandomForestClassifier</label><div class=\"sk-toggleable__content\"><pre>RandomForestClassifier(max_depth=8, min_impurity_decrease=0.2, random_state=2)</pre></div></div></div></div></div>"
      ],
      "text/plain": [
       "RandomForestClassifier(max_depth=8, min_impurity_decrease=0.2, random_state=2)"
      ]
     },
     "execution_count": 32,
     "metadata": {},
     "output_type": "execute_result"
    }
   ],
   "source": [
    "from sklearn.ensemble import RandomForestClassifier \n",
    "randomized_search(params={\n",
    "                         'min_samples_leaf':[1,2,4,6,8,10,20,30],\n",
    "                          'min_impurity_decrease':[0.0, 0.01, 0.05, 0.10, 0.15, 0.2],\n",
    "                          'max_features':['sqrt', 0.8, 0.7, 0.6, 0.5, 0.4],\n",
    "                          'max_depth':[None,2,4,6,8,10,20], \n",
    "                         }, clf=RandomForestClassifier(random_state=2, max_features='sqrt'))\n"
   ]
  },
  {
   "cell_type": "code",
   "execution_count": 31,
   "id": "f29257aa",
   "metadata": {},
   "outputs": [
    {
     "data": {
      "text/plain": [
       "array([1, 0, 1, ..., 0, 0, 1])"
      ]
     },
     "execution_count": 31,
     "metadata": {},
     "output_type": "execute_result"
    }
   ],
   "source": [
    "import joblib \n",
    "joblib.dump(ds, \"model.pkl\") \n",
    "model = joblib.load('model.pkl' ) \n",
    "model.predict(X_test)"
   ]
  },
  {
   "cell_type": "code",
   "execution_count": null,
   "id": "3e6e194c",
   "metadata": {},
   "outputs": [],
   "source": []
  }
 ],
 "metadata": {
  "kernelspec": {
   "display_name": "Python 3 (ipykernel)",
   "language": "python",
   "name": "python3"
  },
  "language_info": {
   "codemirror_mode": {
    "name": "ipython",
    "version": 3
   },
   "file_extension": ".py",
   "mimetype": "text/x-python",
   "name": "python",
   "nbconvert_exporter": "python",
   "pygments_lexer": "ipython3",
   "version": "3.9.13"
  }
 },
 "nbformat": 4,
 "nbformat_minor": 5
}
